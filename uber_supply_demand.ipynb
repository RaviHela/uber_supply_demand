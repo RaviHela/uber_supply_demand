{
 "cells": [
  {
   "cell_type": "code",
   "execution_count": 1,
   "metadata": {},
   "outputs": [],
   "source": [
    "import pandas as pd\n",
    "import numpy as np\n",
    "import string as st\n",
    "import datetime as dt\n",
    "import matplotlib.pyplot as plt\n",
    "import seaborn as sns\n",
    "# set a seaborn style\n",
    "sns.set_style(\"whitegrid\")"
   ]
  },
  {
   "cell_type": "markdown",
   "metadata": {},
   "source": [
    "# Read Data"
   ]
  },
  {
   "cell_type": "code",
   "execution_count": 2,
   "metadata": {},
   "outputs": [
    {
     "name": "stdout",
     "output_type": "stream",
     "text": [
      "<class 'pandas.core.frame.DataFrame'>\n",
      "RangeIndex: 6745 entries, 0 to 6744\n",
      "Data columns (total 6 columns):\n",
      "Request id           6745 non-null int64\n",
      "Pickup point         6745 non-null object\n",
      "Driver id            4095 non-null float64\n",
      "Status               6745 non-null object\n",
      "Request timestamp    6745 non-null object\n",
      "Drop timestamp       2831 non-null object\n",
      "dtypes: float64(1), int64(1), object(4)\n",
      "memory usage: 316.2+ KB\n"
     ]
    },
    {
     "data": {
      "text/html": [
       "<div>\n",
       "<style scoped>\n",
       "    .dataframe tbody tr th:only-of-type {\n",
       "        vertical-align: middle;\n",
       "    }\n",
       "\n",
       "    .dataframe tbody tr th {\n",
       "        vertical-align: top;\n",
       "    }\n",
       "\n",
       "    .dataframe thead th {\n",
       "        text-align: right;\n",
       "    }\n",
       "</style>\n",
       "<table border=\"1\" class=\"dataframe\">\n",
       "  <thead>\n",
       "    <tr style=\"text-align: right;\">\n",
       "      <th></th>\n",
       "      <th>Request id</th>\n",
       "      <th>Driver id</th>\n",
       "    </tr>\n",
       "  </thead>\n",
       "  <tbody>\n",
       "    <tr>\n",
       "      <th>count</th>\n",
       "      <td>6745.000000</td>\n",
       "      <td>4095.000000</td>\n",
       "    </tr>\n",
       "    <tr>\n",
       "      <th>mean</th>\n",
       "      <td>3384.644922</td>\n",
       "      <td>149.501343</td>\n",
       "    </tr>\n",
       "    <tr>\n",
       "      <th>std</th>\n",
       "      <td>1955.099667</td>\n",
       "      <td>86.051994</td>\n",
       "    </tr>\n",
       "    <tr>\n",
       "      <th>min</th>\n",
       "      <td>1.000000</td>\n",
       "      <td>1.000000</td>\n",
       "    </tr>\n",
       "    <tr>\n",
       "      <th>25%</th>\n",
       "      <td>1691.000000</td>\n",
       "      <td>75.000000</td>\n",
       "    </tr>\n",
       "    <tr>\n",
       "      <th>50%</th>\n",
       "      <td>3387.000000</td>\n",
       "      <td>149.000000</td>\n",
       "    </tr>\n",
       "    <tr>\n",
       "      <th>75%</th>\n",
       "      <td>5080.000000</td>\n",
       "      <td>224.000000</td>\n",
       "    </tr>\n",
       "    <tr>\n",
       "      <th>max</th>\n",
       "      <td>6766.000000</td>\n",
       "      <td>300.000000</td>\n",
       "    </tr>\n",
       "  </tbody>\n",
       "</table>\n",
       "</div>"
      ],
      "text/plain": [
       "        Request id    Driver id\n",
       "count  6745.000000  4095.000000\n",
       "mean   3384.644922   149.501343\n",
       "std    1955.099667    86.051994\n",
       "min       1.000000     1.000000\n",
       "25%    1691.000000    75.000000\n",
       "50%    3387.000000   149.000000\n",
       "75%    5080.000000   224.000000\n",
       "max    6766.000000   300.000000"
      ]
     },
     "execution_count": 2,
     "metadata": {},
     "output_type": "execute_result"
    }
   ],
   "source": [
    "#read data\n",
    "data = pd.read_csv(\"C:/Users/Rabi/Documents/Data_Science/upgrad/SEDA/uber_supply_demand/Uber Request Data.csv\")\n",
    "#Taking a glimpse\n",
    "data.info()\n",
    "data.describe()"
   ]
  },
  {
   "cell_type": "markdown",
   "metadata": {},
   "source": [
    "# Addressing Data Quality issues"
   ]
  },
  {
   "cell_type": "code",
   "execution_count": 3,
   "metadata": {},
   "outputs": [
    {
     "name": "stdout",
     "output_type": "stream",
     "text": [
      "Exploring candidates for factor variable\n"
     ]
    },
    {
     "data": {
      "text/plain": [
       "Request id           6745\n",
       "Pickup point            2\n",
       "Driver id             301\n",
       "Status                  3\n",
       "Request timestamp    5618\n",
       "Drop timestamp       2599\n",
       "dtype: int64"
      ]
     },
     "execution_count": 3,
     "metadata": {},
     "output_type": "execute_result"
    }
   ],
   "source": [
    "print(\"Exploring candidates for factor variable\")\n",
    "data.apply(lambda x: len(x.unique()))"
   ]
  },
  {
   "cell_type": "code",
   "execution_count": 4,
   "metadata": {},
   "outputs": [
    {
     "name": "stdout",
     "output_type": "stream",
     "text": [
      "converting Pickup point and Status to category/factors\n",
      "City       3507\n",
      "Airport    3238\n",
      "Name: Pickup point, dtype: int64\n",
      "\n",
      "Trip Completed       2831\n",
      "No Cars Available    2650\n",
      "Cancelled            1264\n",
      "Name: Status, dtype: int64\n"
     ]
    }
   ],
   "source": [
    "print(\"converting Pickup point and Status to category/factors\")\n",
    "data[\"Pickup point\"] = data[\"Pickup point\"].astype('category')\n",
    "data[\"Status\"] = data[\"Status\"].astype('category')\n",
    "print(data[\"Pickup point\"].value_counts())\n",
    "print(\"\")\n",
    "print(data[\"Status\"].value_counts())"
   ]
  },
  {
   "cell_type": "markdown",
   "metadata": {},
   "source": [
    "# Exploring missing values"
   ]
  },
  {
   "cell_type": "code",
   "execution_count": 5,
   "metadata": {},
   "outputs": [
    {
     "name": "stdout",
     "output_type": "stream",
     "text": [
      "Exploring missing values\n",
      "Request id           0.000000\n",
      "Pickup point         0.000000\n",
      "Driver id            0.392884\n",
      "Status               0.000000\n",
      "Request timestamp    0.000000\n",
      "Drop timestamp       0.580282\n",
      "dtype: float64\n"
     ]
    },
    {
     "data": {
      "image/png": "[encoded data removed]",
      "text/plain": [
       "<Figure size 432x288 with 1 Axes>"
      ]
     },
     "metadata": {},
     "output_type": "display_data"
    }
   ],
   "source": [
    "#Exploring missing values\n",
    "print(\"Exploring missing values\")\n",
    "sns.heatmap(data.isnull(), cbar=False)\n",
    "print(data.isnull().sum()/len(data))"
   ]
  },
  {
   "cell_type": "markdown",
   "metadata": {},
   "source": [
    "Checking if missingness has something to do with the success or filure of the service request"
   ]
  },
  {
   "cell_type": "code",
   "execution_count": 6,
   "metadata": {},
   "outputs": [
    {
     "name": "stdout",
     "output_type": "stream",
     "text": [
      "checking if this has something to do with the success or filure of the service request\n",
      "[No Cars Available]\n",
      "Categories (1, object): [No Cars Available]\n",
      "[Cancelled, No Cars Available]\n",
      "Categories (2, object): [Cancelled, No Cars Available]\n"
     ]
    }
   ],
   "source": [
    "print(\"checking if this has something to do with the success or filure of the service request\")\n",
    "print(data.Status[data[\"Driver id\"].isnull()].unique())\n",
    "print(data.Status[data[\"Drop timestamp\"].isnull()].unique())"
   ]
  },
  {
   "cell_type": "code",
   "execution_count": 7,
   "metadata": {},
   "outputs": [
    {
     "name": "stdout",
     "output_type": "stream",
     "text": [
      "looking for a sample data slice to identify any other data quality issue\n"
     ]
    },
    {
     "data": {
      "text/html": [
       "<div>\n",
       "<style scoped>\n",
       "    .dataframe tbody tr th:only-of-type {\n",
       "        vertical-align: middle;\n",
       "    }\n",
       "\n",
       "    .dataframe tbody tr th {\n",
       "        vertical-align: top;\n",
       "    }\n",
       "\n",
       "    .dataframe thead th {\n",
       "        text-align: right;\n",
       "    }\n",
       "</style>\n",
       "<table border=\"1\" class=\"dataframe\">\n",
       "  <thead>\n",
       "    <tr style=\"text-align: right;\">\n",
       "      <th></th>\n",
       "      <th>Request id</th>\n",
       "      <th>Pickup point</th>\n",
       "      <th>Driver id</th>\n",
       "      <th>Status</th>\n",
       "      <th>Request timestamp</th>\n",
       "      <th>Drop timestamp</th>\n",
       "    </tr>\n",
       "  </thead>\n",
       "  <tbody>\n",
       "    <tr>\n",
       "      <th>171</th>\n",
       "      <td>3943</td>\n",
       "      <td>Airport</td>\n",
       "      <td>18.0</td>\n",
       "      <td>Trip Completed</td>\n",
       "      <td>13-07-2016 22:35:38</td>\n",
       "      <td>13-07-2016 23:33:20</td>\n",
       "    </tr>\n",
       "    <tr>\n",
       "      <th>6438</th>\n",
       "      <td>6202</td>\n",
       "      <td>Airport</td>\n",
       "      <td>NaN</td>\n",
       "      <td>No Cars Available</td>\n",
       "      <td>15-07-2016 17:22:39</td>\n",
       "      <td>NaN</td>\n",
       "    </tr>\n",
       "    <tr>\n",
       "      <th>6144</th>\n",
       "      <td>5331</td>\n",
       "      <td>Airport</td>\n",
       "      <td>NaN</td>\n",
       "      <td>No Cars Available</td>\n",
       "      <td>14-07-2016 22:20:30</td>\n",
       "      <td>NaN</td>\n",
       "    </tr>\n",
       "    <tr>\n",
       "      <th>6360</th>\n",
       "      <td>6048</td>\n",
       "      <td>City</td>\n",
       "      <td>NaN</td>\n",
       "      <td>No Cars Available</td>\n",
       "      <td>15-07-2016 13:29:51</td>\n",
       "      <td>NaN</td>\n",
       "    </tr>\n",
       "    <tr>\n",
       "      <th>3989</th>\n",
       "      <td>1228</td>\n",
       "      <td>City</td>\n",
       "      <td>276.0</td>\n",
       "      <td>Cancelled</td>\n",
       "      <td>11/7/2016 21:37</td>\n",
       "      <td>NaN</td>\n",
       "    </tr>\n",
       "    <tr>\n",
       "      <th>1774</th>\n",
       "      <td>4031</td>\n",
       "      <td>City</td>\n",
       "      <td>186.0</td>\n",
       "      <td>Trip Completed</td>\n",
       "      <td>14-07-2016 00:22:54</td>\n",
       "      <td>14-07-2016 00:55:13</td>\n",
       "    </tr>\n",
       "    <tr>\n",
       "      <th>511</th>\n",
       "      <td>2894</td>\n",
       "      <td>City</td>\n",
       "      <td>52.0</td>\n",
       "      <td>Trip Completed</td>\n",
       "      <td>13-07-2016 06:01:37</td>\n",
       "      <td>13-07-2016 07:13:57</td>\n",
       "    </tr>\n",
       "    <tr>\n",
       "      <th>389</th>\n",
       "      <td>4735</td>\n",
       "      <td>City</td>\n",
       "      <td>39.0</td>\n",
       "      <td>Trip Completed</td>\n",
       "      <td>14-07-2016 14:43:10</td>\n",
       "      <td>14-07-2016 15:51:37</td>\n",
       "    </tr>\n",
       "    <tr>\n",
       "      <th>2848</th>\n",
       "      <td>3230</td>\n",
       "      <td>City</td>\n",
       "      <td>5.0</td>\n",
       "      <td>Cancelled</td>\n",
       "      <td>13-07-2016 10:01:57</td>\n",
       "      <td>NaN</td>\n",
       "    </tr>\n",
       "    <tr>\n",
       "      <th>4225</th>\n",
       "      <td>509</td>\n",
       "      <td>City</td>\n",
       "      <td>NaN</td>\n",
       "      <td>No Cars Available</td>\n",
       "      <td>11/7/2016 9:42</td>\n",
       "      <td>NaN</td>\n",
       "    </tr>\n",
       "  </tbody>\n",
       "</table>\n",
       "</div>"
      ],
      "text/plain": [
       "      Request id Pickup point  Driver id             Status  \\\n",
       "171         3943      Airport       18.0     Trip Completed   \n",
       "6438        6202      Airport        NaN  No Cars Available   \n",
       "6144        5331      Airport        NaN  No Cars Available   \n",
       "6360        6048         City        NaN  No Cars Available   \n",
       "3989        1228         City      276.0          Cancelled   \n",
       "1774        4031         City      186.0     Trip Completed   \n",
       "511         2894         City       52.0     Trip Completed   \n",
       "389         4735         City       39.0     Trip Completed   \n",
       "2848        3230         City        5.0          Cancelled   \n",
       "4225         509         City        NaN  No Cars Available   \n",
       "\n",
       "        Request timestamp       Drop timestamp  \n",
       "171   13-07-2016 22:35:38  13-07-2016 23:33:20  \n",
       "6438  15-07-2016 17:22:39                  NaN  \n",
       "6144  14-07-2016 22:20:30                  NaN  \n",
       "6360  15-07-2016 13:29:51                  NaN  \n",
       "3989      11/7/2016 21:37                  NaN  \n",
       "1774  14-07-2016 00:22:54  14-07-2016 00:55:13  \n",
       "511   13-07-2016 06:01:37  13-07-2016 07:13:57  \n",
       "389   14-07-2016 14:43:10  14-07-2016 15:51:37  \n",
       "2848  13-07-2016 10:01:57                  NaN  \n",
       "4225       11/7/2016 9:42                  NaN  "
      ]
     },
     "execution_count": 7,
     "metadata": {},
     "output_type": "execute_result"
    }
   ],
   "source": [
    "print(\"looking for a sample data slice to identify any other data quality issue\")\n",
    "data.sample(10)"
   ]
  },
  {
   "cell_type": "code",
   "execution_count": 8,
   "metadata": {},
   "outputs": [
    {
     "name": "stdout",
     "output_type": "stream",
     "text": [
      "date format in request time and drop time looks in-consistent. Leys check them individually. Lets confirm\n",
      "0        11/7/2016 11:51\n",
      "1        11/7/2016 17:57\n",
      "2         12/7/2016 9:17\n",
      "3        12/7/2016 21:08\n",
      "4    13-07-2016 08:33:16\n",
      "5    13-07-2016 21:57:28\n",
      "6    14-07-2016 06:15:32\n",
      "7    15-07-2016 05:11:52\n",
      "8    15-07-2016 17:57:27\n",
      "9         11/7/2016 6:46\n",
      "Name: Request timestamp, dtype: object\n",
      "\n",
      "0        11/7/2016 13:00\n",
      "1        11/7/2016 18:47\n",
      "2         12/7/2016 9:58\n",
      "3        12/7/2016 22:03\n",
      "4    13-07-2016 09:25:47\n",
      "5    13-07-2016 22:28:59\n",
      "6    14-07-2016 07:13:15\n",
      "7    15-07-2016 06:07:52\n",
      "8    15-07-2016 18:50:51\n",
      "9         11/7/2016 7:25\n",
      "Name: Drop timestamp, dtype: object\n"
     ]
    }
   ],
   "source": [
    "print(\"date format in request time and drop time looks in-consistent. Leys check them individually. Lets confirm\")\n",
    "print(data[\"Request timestamp\"].sample(10))\n",
    "print(\"\")\n",
    "print(data[\"Drop timestamp\"].sample(10))"
   ]
  },
  {
   "cell_type": "code",
   "execution_count": 9,
   "metadata": {},
   "outputs": [
    {
     "name": "stdout",
     "output_type": "stream",
     "text": [
      "making dates consistent\n",
      "0   2016-07-11 11:51:00\n",
      "1   2016-07-11 17:57:00\n",
      "2   2016-07-12 09:17:00\n",
      "3   2016-07-12 21:08:00\n",
      "4   2016-07-13 08:33:16\n",
      "5   2016-07-13 21:57:28\n",
      "6   2016-07-14 06:15:32\n",
      "7   2016-07-15 05:11:52\n",
      "8   2016-07-15 17:57:27\n",
      "9   2016-07-11 06:46:00\n",
      "Name: Request timestamp, dtype: datetime64[ns]\n",
      "\n",
      "0   2016-07-11 13:00:00\n",
      "1   2016-07-11 18:47:00\n",
      "2   2016-07-12 09:58:00\n",
      "3   2016-07-12 22:03:00\n",
      "4   2016-07-13 09:25:47\n",
      "5   2016-07-13 22:28:59\n",
      "6   2016-07-14 07:13:15\n",
      "7   2016-07-15 06:07:52\n",
      "8   2016-07-15 18:50:51\n",
      "9   2016-07-11 07:25:00\n",
      "Name: Drop timestamp, dtype: datetime64[ns]\n"
     ]
    }
   ],
   "source": [
    "print(\"making dates consistent\")\n",
    "data[\"Request timestamp\"] = pd.to_datetime(data[\"Request timestamp\"],dayfirst=True)\n",
    "data[\"Drop timestamp\"] = pd.to_datetime(data[\"Drop timestamp\"],dayfirst=True)\n",
    "print(data[\"Request timestamp\"].sample(10))\n",
    "print(\"\")\n",
    "print(data[\"Drop timestamp\"].sample(10))"
   ]
  },
  {
   "cell_type": "markdown",
   "metadata": {},
   "source": [
    "# Formulate business questions\n",
    "Lets formualte business questions:\n",
    "1. Is there a Demand Supply Gap?\n",
    "2. How big is the Gap?\n",
    "3. Given the data, which events contribute to Gap and to what extent?\n",
    "4. How does the Gap vary across given factors like Pick UP location, time of the day.\n",
    "5. Recommendarion to the management to address the Gap\n"
   ]
  },
  {
   "cell_type": "code",
   "execution_count": 100,
   "metadata": {},
   "outputs": [
    {
     "name": "stdout",
     "output_type": "stream",
     "text": [
      "Each row of the data set is a service request . A service request is a success when the trip gets completed. In other words, when a demand is met. Creating a new feature supply to denote whether a service request was succesfull.\n"
     ]
    }
   ],
   "source": [
    "#new feature creation to lump failed cases togahter and arrive at metric Overall Fail Rate\n",
    "print(\"Each row of the data set is a service request . A service request is a success when the trip gets completed. In other words, when a demand is met. Creating a new feature supply to denote whether a service request was succesfull.\")\n",
    "data['supply'] = np.nan\n",
    "data['supply'] = ['sucess' if x == 'Trip Completed' else 'fail' for x in data[\"Status\"]]"
   ]
  },
  {
   "cell_type": "markdown",
   "metadata": {},
   "source": [
    "# Perform EDA"
   ]
  },
  {
   "cell_type": "code",
   "execution_count": 101,
   "metadata": {},
   "outputs": [
    {
     "name": "stdout",
     "output_type": "stream",
     "text": [
      "Is there a Demand Supply Gap and if there is how big?\n",
      "fail      3914\n",
      "sucess    2831\n",
      "Name: supply, dtype: int64\n",
      "fail      0.580282\n",
      "sucess    0.419718\n",
      "Name: supply, dtype: float64\n"
     ]
    },
    {
     "data": {
      "image/png": "[encoded data removed]",
      "text/plain": [
       "<Figure size 432x288 with 1 Axes>"
      ]
     },
     "metadata": {},
     "output_type": "display_data"
    }
   ],
   "source": [
    "#STart of EDA though Descriptive Statistcs and Plots\n",
    "print(\"Is there a Demand Supply Gap and if there is how big?\")\n",
    "print(data.supply.value_counts())\n",
    "print(data.supply.value_counts()/len(data.supply))\n",
    "sns.countplot(x=\"supply\", data=data)\n",
    "plt.show()"
   ]
  },
  {
   "cell_type": "markdown",
   "metadata": {},
   "source": [
    "There is indeed a Gap and its significant. The overall fail rate is 58% i.e 58% the pick up request are not met. Given the data, which events contribute to Gap and to what extent?"
   ]
  },
  {
   "cell_type": "code",
   "execution_count": null,
   "metadata": {},
   "outputs": [],
   "source": [
    "There is indeed a Gap and its significant. The overall fail rate is 58% i.e 58% the pick up request are not met. Given the data, which events contribute to Gap and to what extent"
   ]
  },
  {
   "cell_type": "code",
   "execution_count": 103,
   "metadata": {},
   "outputs": [
    {
     "name": "stdout",
     "output_type": "stream",
     "text": [
      "Checking if the fail rate is significanlty diffrent across pick points\n"
     ]
    },
    {
     "data": {
      "image/png": "[encoded data removed]",
      "text/plain": [
       "<Figure size 432x288 with 1 Axes>"
      ]
     },
     "metadata": {},
     "output_type": "display_data"
    },
    {
     "name": "stdout",
     "output_type": "stream",
     "text": [
      "Checking the nature of the fails\n",
      "supply  Status           \n",
      "fail    Cancelled            0.32\n",
      "        No Cars Available    0.68\n",
      "sucess  Trip Completed       1.00\n",
      "Name: supply, dtype: float64\n",
      "\n"
     ]
    }
   ],
   "source": [
    "print(\"Checking if the fail rate is significanlty diffrent across pick points\")\n",
    "sns.countplot(x=\"Pickup point\", data=data, hue= \"supply\")\n",
    "plt.legend(loc = \"upper left\")\n",
    "plt.show()\n",
    "print(\"Checking the nature of the fails\")\n",
    "print(round(data.groupby([\"supply\", \"Status\"]).supply.count()/data.groupby([\"supply\"]).supply.count(), 2))\n",
    "print(\"\")"
   ]
  },
  {
   "cell_type": "markdown",
   "metadata": {},
   "source": [
    "From the plot above Its difficult to say that Pick point influnces whether service request is a success or failure.\n",
    "in general the effect of Pick up point seems nuetral. \n",
    "We will explore later if this changes when we consider other factors along with Pick up point. \n",
    "\n",
    "We also see that around 68% of the Fail cases are due to non-availability of cars.\n",
    "\n",
    "Lest explore the Fail rate throught the day. We create a derived metric fail_rate."
   ]
  },
  {
   "cell_type": "code",
   "execution_count": 166,
   "metadata": {},
   "outputs": [
    {
     "name": "stderr",
     "output_type": "stream",
     "text": [
      "C:\\Users\\Rabi\\Anaconda3\\lib\\site-packages\\matplotlib\\axes\\_axes.py:6462: UserWarning: The 'normed' kwarg is deprecated, and has been replaced by the 'density' kwarg.\n",
      "  warnings.warn(\"The 'normed' kwarg is deprecated, and has been \"\n"
     ]
    },
    {
     "data": {
      "text/plain": [
       "Text(0.5,1,'Demand Distribution Overall')"
      ]
     },
     "execution_count": 166,
     "metadata": {},
     "output_type": "execute_result"
    },
    {
     "data": {
      "image/png": "[encoded data removed]",
      "text/plain": [
       "<Figure size 432x288 with 1 Axes>"
      ]
     },
     "metadata": {},
     "output_type": "display_data"
    }
   ],
   "source": [
    "data['Request_hour'] = np.nan\n",
    "data['Request_hour']  = data[\"Request timestamp\"].dt.hour\n",
    "sns.distplot(data['Request_hour'])\n",
    "plt.ylabel(\"service request\")\n",
    "plt.xlabel(\"Hour of the day\")\n",
    "plt.title(\"Demand Distribution Overall\")"
   ]
  },
  {
   "cell_type": "code",
   "execution_count": 165,
   "metadata": {},
   "outputs": [
    {
     "name": "stderr",
     "output_type": "stream",
     "text": [
      "C:\\Users\\Rabi\\Anaconda3\\lib\\site-packages\\matplotlib\\axes\\_axes.py:6462: UserWarning: The 'normed' kwarg is deprecated, and has been replaced by the 'density' kwarg.\n",
      "  warnings.warn(\"The 'normed' kwarg is deprecated, and has been \"\n",
      "C:\\Users\\Rabi\\Anaconda3\\lib\\site-packages\\matplotlib\\axes\\_axes.py:6462: UserWarning: The 'normed' kwarg is deprecated, and has been replaced by the 'density' kwarg.\n",
      "  warnings.warn(\"The 'normed' kwarg is deprecated, and has been \"\n"
     ]
    },
    {
     "data": {
      "text/plain": [
       "Text(0.5,1,'Demand Distribution City')"
      ]
     },
     "execution_count": 165,
     "metadata": {},
     "output_type": "execute_result"
    },
    {
     "data": {
      "image/png": "[encoded data removed]",
      "text/plain": [
       "<Figure size 432x288 with 2 Axes>"
      ]
     },
     "metadata": {},
     "output_type": "display_data"
    }
   ],
   "source": [
    "#subsetting Airport pick up data\n",
    "data_airport = data[data[\"Pickup point\"] == \"Airport\"]\n",
    "#subsetting city pick up data\n",
    "data_city = data[data[\"Pickup point\"] == \"City\"]\n",
    "\n",
    "#Plotting Fail rate and demand distribution across Pick up point and hours of the day\n",
    "plt.subplot(2, 2, 1)\n",
    "sns.distplot(data_airport['Request_hour'])\n",
    "plt.ylabel(\"service request\")\n",
    "plt.xlabel(\"Hour of the day\")\n",
    "plt.title(\"Demand Distribution Airport\")\n",
    "plt.subplot(2, 2, 2)\n",
    "sns.distplot(data_city['Request_hour'])\n",
    "plt.ylabel(\"service request\")\n",
    "plt.xlabel(\"Hour of the day\")\n",
    "plt.title(\"Demand Distribution City\")"
   ]
  },
  {
   "cell_type": "code",
   "execution_count": null,
   "metadata": {},
   "outputs": [],
   "source": [
    "data['supply_bool'] = np.nan\n",
    "data['supply_bool'] = (data[\"supply\"] == \"fail\")\n",
    "print(\"Plotting fail rate\")"
   ]
  },
  {
   "cell_type": "code",
   "execution_count": 143,
   "metadata": {},
   "outputs": [
    {
     "name": "stdout",
     "output_type": "stream",
     "text": [
      "Request_hour\n",
      "0     0.60\n",
      "1     0.71\n",
      "2     0.63\n",
      "3     0.63\n",
      "4     0.62\n",
      "5     0.58\n",
      "6     0.58\n",
      "7     0.57\n",
      "8     0.63\n",
      "9     0.60\n",
      "10    0.52\n",
      "11    0.33\n",
      "12    0.34\n",
      "13    0.44\n",
      "14    0.35\n",
      "15    0.40\n",
      "16    0.43\n",
      "17    0.64\n",
      "18    0.68\n",
      "19    0.65\n",
      "20    0.67\n",
      "21    0.68\n",
      "22    0.49\n",
      "23    0.47\n",
      "Name: supply_bool, dtype: float64\n"
     ]
    },
    {
     "name": "stderr",
     "output_type": "stream",
     "text": [
      "C:\\Users\\Rabi\\Anaconda3\\lib\\site-packages\\seaborn\\timeseries.py:183: UserWarning: The tsplot function is deprecated and will be removed or replaced (in a substantially altered version) in a future release.\n",
      "  warnings.warn(msg, UserWarning)\n"
     ]
    },
    {
     "data": {
      "image/png": "[encoded data removed]",
      "text/plain": [
       "<Figure size 432x288 with 1 Axes>"
      ]
     },
     "metadata": {},
     "output_type": "display_data"
    }
   ],
   "source": [
    "time_df_all = data.groupby([\"Request_hour\"]).supply_bool.mean()\n",
    "print(round(time_df_all, 2))\n",
    "sns.tsplot(data=time_df_all)\n",
    "plt.ylabel(\"Fail Rate\")\n",
    "plt.xlabel(\"Hour of the day\")\n",
    "plt.title(\"Fail Rate Overall\")\n",
    "plt.show()"
   ]
  },
  {
   "cell_type": "markdown",
   "metadata": {},
   "source": [
    "1. We see that the Fail Rate is highest in late night\n",
    "2. The Fail comes down but stays relatively high during early hours. Fail rate is also high during evening 6 to late eveninig 9. This also coincides with the high demand or high servie request during similar time line. So we do get a hint that high Demand is one of the reason of failing service. \n",
    "\n",
    "Lets explore see how trend is consistent across Pick up Points."
   ]
  },
  {
   "cell_type": "code",
   "execution_count": 145,
   "metadata": {},
   "outputs": [
    {
     "name": "stderr",
     "output_type": "stream",
     "text": [
      "C:\\Users\\Rabi\\Anaconda3\\lib\\site-packages\\seaborn\\timeseries.py:183: UserWarning: The tsplot function is deprecated and will be removed or replaced (in a substantially altered version) in a future release.\n",
      "  warnings.warn(msg, UserWarning)\n",
      "C:\\Users\\Rabi\\Anaconda3\\lib\\site-packages\\seaborn\\timeseries.py:183: UserWarning: The tsplot function is deprecated and will be removed or replaced (in a substantially altered version) in a future release.\n",
      "  warnings.warn(msg, UserWarning)\n",
      "C:\\Users\\Rabi\\Anaconda3\\lib\\site-packages\\matplotlib\\axes\\_axes.py:6462: UserWarning: The 'normed' kwarg is deprecated, and has been replaced by the 'density' kwarg.\n",
      "  warnings.warn(\"The 'normed' kwarg is deprecated, and has been \"\n",
      "C:\\Users\\Rabi\\Anaconda3\\lib\\site-packages\\matplotlib\\axes\\_axes.py:6462: UserWarning: The 'normed' kwarg is deprecated, and has been replaced by the 'density' kwarg.\n",
      "  warnings.warn(\"The 'normed' kwarg is deprecated, and has been \"\n"
     ]
    },
    {
     "data": {
      "text/plain": [
       "<matplotlib.axes._subplots.AxesSubplot at 0x1a370aaf390>"
      ]
     },
     "execution_count": 145,
     "metadata": {},
     "output_type": "execute_result"
    },
    {
     "data": {
      "image/png": "[encoded data removed]",
      "text/plain": [
       "<Figure size 432x288 with 4 Axes>"
      ]
     },
     "metadata": {},
     "output_type": "display_data"
    }
   ],
   "source": [
    "#subsetting Airport pick up data\n",
    "data_airport = data[data[\"Pickup point\"] == \"Airport\"]\n",
    "time_df_airport = data_airport.groupby([\"Request_hour\"]).supply_bool.mean()\n",
    "#subsetting city pick up data\n",
    "data_city = data[data[\"Pickup point\"] == \"City\"]\n",
    "time_df_city = data_city.groupby([\"Request_hour\"]).supply_bool.mean()\n",
    "\n",
    "#Plotting Fail rate and demand distribution across Pick up point and hours of the day\n",
    "plt.subplot(2, 2, 1)\n",
    "sns.tsplot(data= time_df_airport)\n",
    "plt.ylabel(\"Fail Rate\")\n",
    "plt.xlabel(\"Hour of the day\")\n",
    "plt.title(\"Fail Rate Airport\")\n",
    "plt.subplot(2, 2, 2)\n",
    "sns.tsplot(data= time_df_city)\n",
    "plt.ylabel(\"Fail Rate\")\n",
    "plt.xlabel(\"Hour of the day\")\n",
    "plt.title(\"Fail Rate City\")\n",
    "\n",
    "plt.subplot(2, 2, 3)\n",
    "sns.distplot(data_fail[data_fail['Pickup point'] == \"Airport\"].Request_hour)\n",
    "plt.subplot(2, 2, 4)\n",
    "sns.distplot(data_fail[data_fail['Pickup point'] == \"City\"].Request_hour)\n"
   ]
  },
  {
   "cell_type": "markdown",
   "metadata": {},
   "source": [
    "Its intereseting to compare the trend across pick up point.\n",
    "\n",
    "1. From midnight to early hours till 5 PM, the Fail rate is very high. for both Airport and City pick up.\n",
    "2. Post 5 AM in the morning, the Fail rate trends for Airport Pick up and City pick up seems to have negative correlation.\n",
    "3. We see Fail Rate for city pick up continues to remain high till 10 :00 AM whearas as Fail rate for Airport starts steep decrease during early morning hours and stabilises atits lowest around 5:00 AM.\n",
    "4. From 10:00 AM onwards, Fail rate for Airport starts trending higher gradually, whears for citypick up it trends low sharply till 11:00 am and remains stable till 3:00 PM.\n",
    "5. From 3:00 PM onwards, the fail_rate for Airport Pick up shoots up and stabilises at around at a very high of 80% and remains there till 9:00 PM. City pick up shows th opposite trend, where fail rate decreases sharply to almost 20% and remains stable till 9:00 PM.\n",
    "6. Post 9:00 PM Fail Rate for Airport pick up dips sharply to 40%. For CIty pick up it rises steeply to around 60%."
   ]
  },
  {
   "cell_type": "markdown",
   "metadata": {},
   "source": [
    "Now that we know how the Fail Rate vary across pick up points, \n",
    "Lets analyse these failures closely across time and across Pick up point."
   ]
  },
  {
   "cell_type": "code",
   "execution_count": 152,
   "metadata": {},
   "outputs": [
    {
     "data": {
      "text/plain": [
       "<matplotlib.axes._subplots.AxesSubplot at 0x1a370c06438>"
      ]
     },
     "execution_count": 152,
     "metadata": {},
     "output_type": "execute_result"
    },
    {
     "data": {
      "image/png": "[encoded data removed]",
      "text/plain": [
       "<Figure size 432x288 with 1 Axes>"
      ]
     },
     "metadata": {},
     "output_type": "display_data"
    }
   ],
   "source": [
    "data_fail = data[data[\"supply\"] == \"fail\"]\n",
    "sns.countplot(x=\"Request_hour\", hue=\"Status\", data=data_fail )"
   ]
  },
  {
   "cell_type": "markdown",
   "metadata": {},
   "source": [
    "We see from the plot above that the major cause of failure duinrg demand peak of 4:00 am 9:00 am is cancelleation, whereas for demand peak of 5:00PM to 11:00 pm is unavailaiblity of cars. Lets try to segment this by the pick up point."
   ]
  },
  {
   "cell_type": "code",
   "execution_count": 162,
   "metadata": {},
   "outputs": [
    {
     "data": {
      "text/plain": [
       "Text(0.5,1,'Failure distribution for City pickup')"
      ]
     },
     "execution_count": 162,
     "metadata": {},
     "output_type": "execute_result"
    },
    {
     "data": {
      "image/png": "[encoded data removed]",
      "text/plain": [
       "<Figure size 432x288 with 2 Axes>"
      ]
     },
     "metadata": {},
     "output_type": "display_data"
    }
   ],
   "source": [
    "#creating subsets of relevant data for segemented analysis\n",
    "data_fail_airport = data[(data[\"supply\"] == \"fail\") & (data[\"Pickup point\"] == \"Airport\")]\n",
    "data_fail_city = data[(data[\"supply\"] == \"fail\") & (data[\"Pickup point\"] == \"City\")]\n",
    "\n",
    "plt.subplot(2, 1, 1)\n",
    "sns.countplot(x=\"Request_hour\", hue=\"Status\", data=data_fail_airport)\n",
    "plt.title(\"Failure distribution for Airport pickup\")\n",
    "plt.subplot(2, 1, 2)\n",
    "sns.countplot(x=\"Request_hour\", hue=\"Status\", data=data_fail_city)\n",
    "plt.title(\"Failure distribution for City pickup\")\n"
   ]
  },
  {
   "attachments": {},
   "cell_type": "markdown",
   "metadata": {},
   "source": [
    "# Summarise findings and recommendation \n",
    "\n",
    "We observe that Demand peak is dependent on Pick up point and hour of the day. The mornining Peak is for City and late evening and night peak is for Airport.\n",
    "Lets summarise out observations with reference to our bussiness questions:\n",
    "1. __Is there a Demand Supply Gap?__<br>\n",
    " _Yes_\n",
    "\n",
    "2. __How big is the Gap?__<br>\n",
    "_Overall the failure rate is 58%._<br>\n",
    "_There are two demad peak where Fail rate is high in the range of 60-70%. The first one is 4:00 am to 9:00 am and second one is 5:00 pm to 10:00 pm_<br>\n",
    "\n",
    "3. __Given the data, which events contribute to Gap and to what extent?__<br>\n",
    "_Demand peaks contributes to most of the failures (exception to this is late night between 12:00 AM  to 4:00am)_ <br>\n",
    "4. __How does the Gap vary across given factors like Pick UP location, time of the day.__<br>\n",
    "_The demand peak across Pick up point is significant. The mornining Peak  is for City and late evening and night peak is for Airport._ <br> \n",
    "_For the morninig peak of the City major cause of failure is Cancelletion whereas wheras for night peak of Airport almost all failures are due to unavailability of Cars._ <br> \n",
    "\n",
    "5. __Recommendarion to the management to address the Gap__<br>\n",
    "\n",
    "The morning spike in failure rate is mostly cancellation for City Pick up.  \n",
    "We can hypothesis is that Driver’s are reluctant to come to Airport from City. As we observe in Slide 11(red filed portion) there is very low demand for Airport pick up during that time. The diver will have to wait for a pick up or he may have to drive back to city where he gets a booking. This means loss for driver in term of Time and Fuel).\n",
    "\n",
    "Management may incentivise drivers who accept these pick ups by charging premium on Customer Fare and passing the differential to drivers.<br>\n",
    "\n",
    "The night spike in failure rate is mostly unavailability of cars for Airport Pick up. \n",
    "Owing to low demand from City where We can give same argument as above and same recommendation. \n",
    "Other hypothesis could be that we have few drivers who do night shift. May recruit more drivers with higher incentives. Obviously charging the extra money to passenger fare.\n",
    "\n",
    "Beside this we may also promote other avenue like allowing private cars to register in Ola for pooling. Obviously this might require regulatory permissions.\n",
    "\n",
    "\n",
    "\n",
    "\n",
    "\n"
   ]
  }
 ],
 "metadata": {
  "kernelspec": {
   "display_name": "Python 3",
   "language": "python",
   "name": "python3"
  },
  "language_info": {
   "codemirror_mode": {
    "name": "ipython",
    "version": 3
   },
   "file_extension": ".py",
   "mimetype": "text/x-python",
   "name": "python",
   "nbconvert_exporter": "python",
   "pygments_lexer": "ipython3",
   "version": "3.6.5"
  }
 },
 "nbformat": 4,
 "nbformat_minor": 2
}
